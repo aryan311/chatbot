{
 "cells": [
  {
   "cell_type": "code",
   "execution_count": 1,
   "id": "b2ccdb8d",
   "metadata": {},
   "outputs": [],
   "source": [
    "import numpy as np\n",
    "import nltk\n",
    "import random\n",
    "import string"
   ]
  },
  {
   "cell_type": "code",
   "execution_count": 2,
   "id": "c6247627",
   "metadata": {},
   "outputs": [
    {
     "name": "stderr",
     "output_type": "stream",
     "text": [
      "[nltk_data] Downloading package punkt to\n",
      "[nltk_data]     C:\\Users\\aryan\\AppData\\Roaming\\nltk_data...\n",
      "[nltk_data]   Package punkt is already up-to-date!\n",
      "[nltk_data] Downloading package wordnet to\n",
      "[nltk_data]     C:\\Users\\aryan\\AppData\\Roaming\\nltk_data...\n",
      "[nltk_data]   Package wordnet is already up-to-date!\n"
     ]
    }
   ],
   "source": [
    "f = open('corpous.txt', errors='ignore')\n",
    "doc=f.read()\n",
    "doc= doc.lower() #converts to lower\n",
    "nltk.download('punkt')# we are using punkt tokenizer because it is among the best in evolving some models\n",
    "nltk.download('wordnet')#using wordnet dictonary\n",
    "sentance_tokens= nltk.sent_tokenize(doc)\n",
    "word_tokens = nltk.word_tokenize(doc)"
   ]
  },
  {
   "cell_type": "code",
   "execution_count": 3,
   "id": "85bf8a78",
   "metadata": {},
   "outputs": [
    {
     "data": {
      "text/plain": [
       "['did you like hawaii vacation?', 'i loved it.i want to live there.']"
      ]
     },
     "execution_count": 3,
     "metadata": {},
     "output_type": "execute_result"
    }
   ],
   "source": [
    "#example of sentance tokes\n",
    "sentance_tokens[:2]"
   ]
  },
  {
   "cell_type": "code",
   "execution_count": 4,
   "id": "fee3334e",
   "metadata": {},
   "outputs": [
    {
     "data": {
      "text/plain": [
       "['did', 'you']"
      ]
     },
     "execution_count": 4,
     "metadata": {},
     "output_type": "execute_result"
    }
   ],
   "source": [
    "#Example of word tokens\n",
    "word_tokens[:2]"
   ]
  },
  {
   "cell_type": "code",
   "execution_count": 5,
   "id": "556d3787",
   "metadata": {},
   "outputs": [],
   "source": [
    "#preprosessing the text\n",
    "lemmer = nltk.stem.WordNetLemmatizer()\n",
    "def LemTokens(tokens):\n",
    "    return [lemmer.lemmatize(token) for token in tokens]\n",
    "remove_punct_dict= dict((ord(punct), None ) for punct in string.punctuation)\n",
    "def LemNormalize(text):\n",
    "    return LemTokens(nltk.word_tokenize(text.lower().translate(remove_punct_dict)))\n",
    "#Here we are bascally converting all to lower case and removing the punctuation"
   ]
  },
  {
   "cell_type": "code",
   "execution_count": 6,
   "id": "87ec85e9",
   "metadata": {},
   "outputs": [],
   "source": [
    "# Defining a greeting function\n",
    "greet_inputs = (\"hello\",\"hi\",\"greeting\",\"hey\",\"namaste\")\n",
    "greet_response = (\"hi\",\"hello\",\"hey\",\"hi there\",\"namaste\")\n",
    "def greet(sentence):\n",
    "    for word in sentence.split():\n",
    "        if word.lower() in inputs:\n",
    "            return random.choice(response)\n",
    "        "
   ]
  },
  {
   "cell_type": "code",
   "execution_count": 7,
   "id": "ad44346c",
   "metadata": {},
   "outputs": [],
   "source": [
    "from sklearn.feature_extraction.text import TfidfVectorizer\n",
    "from sklearn.metrics.pairwise import cosine_similarity"
   ]
  },
  {
   "cell_type": "code",
   "execution_count": 8,
   "id": "5a54a2d5",
   "metadata": {},
   "outputs": [],
   "source": [
    "# we are trying to find the number of times a word is repeated and then finding its rareity\n",
    "# then defining a normalozed vector so that machine can understand what we are trying to do\n",
    "def res(response):\n",
    "    robo_response = ''\n",
    "    tfidf_vector = TfidfVectorizer(tokenizer = 'lemNormalize', stop_word = 'english')\n",
    "    tfidf = tfidf_vector.fit_transform(sentance_tokens)\n",
    "    val = cosine_similarity(tfidf[-1],tfidf)\n",
    "    idx= val.argsort(0)[-2]\n",
    "    flat = val.flatten()\n",
    "    flat.sort()\n",
    "    req_tfidf = flat[-2]\n",
    "    if(req_tfidf == 0):\n",
    "        robo_response = rebo_response+\"Sorry , I did not get you\"\n",
    "        return robo_response\n",
    "    else:\n",
    "        rebo_response = robo_response+sentance_tokens[idx]\n",
    "        return robo_response"
   ]
  },
  {
   "cell_type": "code",
   "execution_count": 9,
   "id": "2054837c",
   "metadata": {},
   "outputs": [
    {
     "name": "stdout",
     "output_type": "stream",
     "text": [
      "bot: Hii, I am the chatbot , let's have a good conversation today, if you want to exit anytime just type bye!\n",
      "bye\n",
      "Bot : byee, take care <3\n"
     ]
    }
   ],
   "source": [
    "#defining conversation start end protocols\n",
    "\n",
    "flag = True\n",
    "print(\"bot: Hii, I am the chatbot , let's have a good conversation today, if you want to exit anytime just type bye!\")\n",
    "while(flag==True):\n",
    "    response = input()\n",
    "    response = response.lower()\n",
    "    if(response!='bye'):\n",
    "        if(response == 'thanks' or response == 'thank you'):\n",
    "            flag = False\n",
    "            print(\"bot: You are welcome!!\")\n",
    "        else:\n",
    "            if(greet(response!=None)):\n",
    "                print(\"bot \"+greet(response))\n",
    "            else:\n",
    "                sentance_tokens.append(response)\n",
    "                word_tokens= word_tokens+nltk.word.tokenize(response)\n",
    "                final_words = list(set(word_tokens))\n",
    "                print(\"bot \", end=\"\")\n",
    "                print(response(response))\n",
    "                sentance_tokens.remove(response)\n",
    "    else:\n",
    "        flag =False\n",
    "        print(\"Bot : byee, take care <3\")\n",
    "        \n"
   ]
  },
  {
   "cell_type": "code",
   "execution_count": null,
   "id": "c04e4da3",
   "metadata": {},
   "outputs": [],
   "source": []
  }
 ],
 "metadata": {
  "kernelspec": {
   "display_name": "Python 3 (ipykernel)",
   "language": "python",
   "name": "python3"
  },
  "language_info": {
   "codemirror_mode": {
    "name": "ipython",
    "version": 3
   },
   "file_extension": ".py",
   "mimetype": "text/x-python",
   "name": "python",
   "nbconvert_exporter": "python",
   "pygments_lexer": "ipython3",
   "version": "3.9.12"
  }
 },
 "nbformat": 4,
 "nbformat_minor": 5
}
